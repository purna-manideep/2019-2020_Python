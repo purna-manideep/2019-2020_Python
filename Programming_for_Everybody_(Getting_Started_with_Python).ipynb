{
  "nbformat": 4,
  "nbformat_minor": 0,
  "metadata": {
    "colab": {
      "name": "Programming for Everybody (Getting Started with Python)",
      "provenance": [],
      "collapsed_sections": [],
      "include_colab_link": true
    },
    "kernelspec": {
      "name": "python3",
      "display_name": "Python 3"
    }
  },
  "cells": [
    {
      "cell_type": "markdown",
      "metadata": {
        "id": "view-in-github",
        "colab_type": "text"
      },
      "source": [
        "<a href=\"https://colab.research.google.com/github/purna-manideep/2019-2020_Python/blob/master/Programming_for_Everybody_(Getting_Started_with_Python).ipynb\" target=\"_parent\"><img src=\"https://colab.research.google.com/assets/colab-badge.svg\" alt=\"Open In Colab\"/></a>"
      ]
    },
    {
      "cell_type": "markdown",
      "metadata": {
        "id": "EspjLE2CVWmV",
        "colab_type": "text"
      },
      "source": [
        "# **Chapter 1**"
      ]
    },
    {
      "cell_type": "code",
      "metadata": {
        "id": "qdeo8i3kL5N_",
        "colab_type": "code",
        "colab": {
          "base_uri": "https://localhost:8080/",
          "height": 34
        },
        "outputId": "baf4f096-8174-4af7-c2aa-29d456da42f7"
      },
      "source": [
        "print(\"Hello World\")"
      ],
      "execution_count": 1,
      "outputs": [
        {
          "output_type": "stream",
          "text": [
            "Hello World\n"
          ],
          "name": "stdout"
        }
      ]
    },
    {
      "cell_type": "markdown",
      "metadata": {
        "id": "CJhQl6hIThdf",
        "colab_type": "text"
      },
      "source": [
        "1.When Python is running in the interactive mode and displaying the chevron prompt (>>>) - what question is Python asking you?\n",
        "A) What is the next machine language instruction to run?\n",
        "\n",
        "2.What will the following program print out:\n",
        "A)20\n",
        "\n",
        "3.Python scripts (files) have names that end with:\n",
        "A).py\n",
        "\n",
        "4.Which of these words are reserved words in Python ?\n",
        "A) if,break\n",
        "\n",
        "5.What is the proper way to say “good-bye” to Python?\n",
        "A) quit()\n",
        "\n",
        "6.Which of the parts of a computer actually executes the program instructions?\n",
        "A)Central Processing Unit\n",
        "\n",
        "7.What is \"code\" in the context of this course?\n",
        "A) A sequence of instructions in a programming language\n",
        "\n",
        "8.A USB memory stick is an example of which of the following components of computer architecture?\n",
        "A) Secondary Memory\n",
        "\n",
        "9.What is the best way to think about a \"Syntax Error\" while programming?\n",
        "A)The computer did not understand the statement that you entered\n",
        "\n",
        "10.Which of the following is not one of the programming patterns covered in Chapter 1?\n",
        "A)Random steps\n"
      ]
    },
    {
      "cell_type": "markdown",
      "metadata": {
        "id": "mEhy2iuGVtbW",
        "colab_type": "text"
      },
      "source": [
        "# Chapter 2"
      ]
    },
    {
      "cell_type": "markdown",
      "metadata": {
        "id": "RmynXoHuV6ga",
        "colab_type": "text"
      },
      "source": [
        "\n",
        "Question 1\n",
        "Which of the following is a comment in Python?\n",
        "\n",
        "* This is a test\n",
        "// This is a test\n",
        "# This is a test\n",
        "/* This is a test */\n",
        "\n",
        "\n",
        "Answer: # This is a test\n",
        "\n",
        "Question 2\n",
        "What does the following code print out?\n",
        "\n",
        "print \"123\" + \"abc\"\n",
        "This is a syntax error because you cannot add strings\n",
        "hello world\n",
        "123abc\n",
        "123+abc \n",
        "\n",
        "Answer: 123abc\n",
        "\n",
        "Question 3\n",
        "Which of the following is a bad Python variable name?\n",
        "\n",
        "spam23\n",
        "SPAM23\n",
        "23spam\n",
        "spam_23\n",
        "\n",
        "Answer: 23spam\n",
        "\n",
        "Question 4\n",
        "Which of the following is not a Python reserved word?\n",
        "spam\n",
        "else\n",
        "for\n",
        "if\n",
        "\n",
        "Answer: spam\n",
        "\n",
        "Question 5\n",
        "What does the following statement do?\n",
        "x = x + 2\n",
        "\n",
        "Exit the program\n",
        "This would fail as it is a syntax error\n",
        "Increase the speed of the program by a factor of 2\n",
        "Retrieve the current value for x, add two to it and put the sum back into x\n",
        "\n",
        "Answer: Retrieve the current value for x, add two to it and put the sum back into x\n",
        "\n",
        "Question 6\n",
        "Which of the following elements of a mathematical expression in Python is evaluated first?\n",
        "\n",
        "Parenthesis ( )\n",
        "Subtraction -\n",
        "Multiplication *\n",
        "Addition +\n",
        "\n",
        "Answer: Parenthesis ( )\n",
        "\n",
        "Question 7\n",
        "What is the value of the following expression\n",
        "42 % 10\n",
        "\n",
        "Hint - the \"%\" is the remainder operator\n",
        "0.42\n",
        "420\n",
        "1042\n",
        "2\n",
        "\n",
        "Answer: 2\n",
        "\n",
        "\n",
        "Question 8\n",
        "What is the value in x after the following statement executes:\n",
        "x = 1 + 2 * 3 - 8 / 4\n",
        "\n",
        "5\n",
        "4\n",
        "15\n",
        "8\n",
        "\n",
        "Answer: 5\n",
        "\n",
        "Question 9\n",
        "What value be in the variable x when the following statement is executed\n",
        "\n",
        "x = int(98.6)\n",
        "100\n",
        "99\n",
        "98\n",
        "6\n",
        "\n",
        "Answer: 98\n",
        "\n",
        "Question 10\n",
        "What does the Python raw_input() function do?\n",
        "\n",
        "Connect to the network and retrieve a web page.\n",
        "Take a screen shot from an area of the screen\n",
        "Pause the program and read data from the user\n",
        "Read the memory of the running program\n",
        "\n",
        "Answer: Pause the program and read data from the user "
      ]
    },
    {
      "cell_type": "markdown",
      "metadata": {
        "id": "D-ohnBpUYqP1",
        "colab_type": "text"
      },
      "source": [
        "2.3 Write a program to prompt the user for hours and rate per hour using input to compute gross pay. Use 35 hours and a rate of 2.75 per hour to test the program (the pay should be 96.25). You should use input to read a string and float() to convert the string to a number. Do not worry about error checking or bad user data."
      ]
    },
    {
      "cell_type": "code",
      "metadata": {
        "id": "PWEqX_KcYZKb",
        "colab_type": "code",
        "colab": {
          "base_uri": "https://localhost:8080/",
          "height": 68
        },
        "outputId": "85fc043a-0921-4d6f-c65e-df7d25b4dc32"
      },
      "source": [
        "# This first line is provided for you\n",
        "hr = input(\"Enter Hours:\")\n",
        "hp=input(\"Enter Amount:\")\n",
        "p=float(hr)*float(hp)\n",
        "print(\"Pay:\",p)"
      ],
      "execution_count": 4,
      "outputs": [
        {
          "output_type": "stream",
          "text": [
            "Enter Hours:35\n",
            "Enter Amount:2.75\n",
            "Pay: 96.25\n"
          ],
          "name": "stdout"
        }
      ]
    },
    {
      "cell_type": "markdown",
      "metadata": {
        "id": "YAkCq-lEZgUs",
        "colab_type": "text"
      },
      "source": [
        "#Chapter 3\n"
      ]
    },
    {
      "cell_type": "markdown",
      "metadata": {
        "id": "JM61LhVEZwJh",
        "colab_type": "text"
      },
      "source": [
        "Question 1\n",
        "What do we do to a Python statement that is immediately after an if statement to indicate that the statement is to be executed only when the if statement is true?\n",
        "\n",
        "Begin the statement with a curly brace {\n",
        "Start the statement with a \"#\" character\n",
        "Indent the line below the if statement\n",
        "Underline all of the conditional code\n",
        "\n",
        "Answer: Indent the line below the if statement\n",
        "\n",
        "Question 2\n",
        "Which of these operators is not a comparison / logical operator?\n",
        "=\n",
        "<\n",
        "==\n",
        ">=\n",
        ">\n",
        "\n",
        "Answer: =\n",
        "\n",
        "Question 3\n",
        "What is true about the following code segment:\n",
        "if  x == 5 :\n",
        "    print 'Is 5'\n",
        "    print 'Is Still 5'\n",
        "    print 'Third 5'\n",
        "Depending on the value of x, either all three of the print statements will execute or none of the statements will execute\n",
        "The string 'Is 5' will always print out regardless of the value for x.\n",
        "The string 'Is 5' will never print out regardless of the value for x.\n",
        "Only two of the three print statements will print out if the value of x is less than zero.\n",
        "\n",
        "Answer: Depending on the value of x, either all three of the print statements will execute or none of the statements will execute\n",
        "\n",
        "Question 4\n",
        "When you have multiple lines in an if block, how do you indicate the end of the if block?\n",
        "\n",
        "You de-indent the next line past the if block to the same level of indent as the original if statement\n",
        "You put the colon : character on a line by itself to indicate we are done with the if block\n",
        "You use a curly brace { after the last line of the if block\n",
        "You capitalize the first letter of the line following the end of the if block\n",
        "\n",
        "Answer: You de-indent the next line past the if block to the same level of indent as the original if statement\n",
        "\n",
        "Question 5\n",
        "You look at the following text:\n",
        "if x == 6 :\n",
        "    print 'Is 6'\n",
        "    print 'Is Still 6'\n",
        "    print 'Third 6'\n",
        "It looks perfect but Python is giving you an 'Indentation Error' on the second print statement. What is the most likely reason?\n",
        "Python has reached its limit on the largest Python program that can be run\n",
        "Python thinks 'Still' is a mis-spelled word in the string\n",
        "You have mixed tabs and spaces in the file\n",
        "In order to make humans feel inadequate, Python randomly emits 'Indentation Errors' on perfectly good code - after about an hour the error will just go away without any changes to your program\n",
        "\n",
        "Answer: You have mixed tabs and spaces in the file\n",
        "\n",
        "Question 6\n",
        "What is the Python reserved word that we use in two-way if tests to indicate the block of code that is to be executed if the logical test is false?\n",
        "toggle\n",
        "switch\n",
        "else\n",
        "A closing curly brace followed by an open curly brace like this }{\n",
        "\n",
        "Answer: else\n",
        "\n",
        "Question 7\n",
        "What will the following code print out?\n",
        "x = 0\n",
        "if x < 2 :\n",
        "    print 'Small'\n",
        "elif x < 10 :\n",
        "    print 'Medium'\n",
        "else :\n",
        "    print 'LARGE'\n",
        "print 'All done'\n",
        "Small\n",
        "Medium\n",
        "All done\n",
        "Small\n",
        "All done\n",
        "Small\n",
        "Medium\n",
        "LARGE\n",
        "All done\n",
        "\n",
        "Answer: Small// All done\n",
        "\n",
        "Question 8\n",
        "For the following code,\n",
        "if x < 2 :\n",
        "    print 'Below 2'\n",
        "elif x >= 2 : \n",
        "    print 'Two or more'\n",
        "else :\n",
        "    print 'Something else'\n",
        "What value of 'x' will cause 'Something else' to print out?\n",
        "x = -22\n",
        "x = -2.0\n",
        "This code will never print 'Something else' regardless of the value for 'x'\n",
        "x = 2.0\n",
        "\n",
        "Answer: This code will never print 'Something else' regardless of the value for 'x'\n",
        "\n",
        "Question 9\n",
        "'In the following code (numbers added) - which will be the last line to execute successfully?\n",
        "(1)   astr = 'Hello Bob'\n",
        "(2)   istr = int(astr)\n",
        "(3)   print 'First', istr\n",
        "(4)   astr = '123'\n",
        "(5)   istr = int(astr)\n",
        "(6)   print 'Second', istr\n",
        "5\n",
        "1\n",
        "6\n",
        "2\n",
        "\n",
        "Answer: 1\n",
        "\n",
        "Question 10\n",
        "For the following code:\n",
        "astr = 'Hello Bob'\n",
        "istr = 0\n",
        "try:\n",
        "    istr = int(astr)\n",
        "except:\n",
        "    istr = -1\n",
        "What will the value for istr after this code executes?\n",
        "false\n",
        "It will be a random number depending on the operating system the program runs on\n",
        "-1\n",
        "9 (the number of characters in 'Hello Bob')\n",
        "\n",
        "Answer: -1"
      ]
    },
    {
      "cell_type": "markdown",
      "metadata": {
        "id": "PG9ILZSPZ95K",
        "colab_type": "text"
      },
      "source": [
        "# Assignment 3.1\n"
      ]
    },
    {
      "cell_type": "markdown",
      "metadata": {
        "id": "CS5iE_FPaNDI",
        "colab_type": "text"
      },
      "source": [
        "3.1 Write a program to prompt the user for hours and rate per hour using input to compute gross pay. Pay the hourly rate for the hours up to 40 and 1.5 times the hourly rate for all hours worked above 40 hours. Use 45 hours and a rate of 10.50 per hour to test the program (the pay should be 498.75). You should use input to read a string and float() to convert the string to a number. Do not worry about error checking the user input - assume the user types numbers properly.\n",
        "  "
      ]
    },
    {
      "cell_type": "code",
      "metadata": {
        "id": "rZXiIDlaT67G",
        "colab_type": "code",
        "colab": {
          "base_uri": "https://localhost:8080/",
          "height": 68
        },
        "outputId": "2b515d13-1d23-424b-802a-40a076aeb597"
      },
      "source": [
        "sh=input(\"Enter Hours:\")\n",
        "sr=input(\"Enter Rate:\")\n",
        "fh=float(sh)\n",
        "fr=float(sr)\n",
        "\n",
        "if fh>40:\n",
        "    reg=fh*fr\n",
        "    otp=(fh-40)*(fr*0.5)\n",
        "    xp=reg+otp\n",
        "    print(xp)\n",
        "else:\n",
        "    xp=fh*fr\n",
        "    print(xp)"
      ],
      "execution_count": 5,
      "outputs": [
        {
          "output_type": "stream",
          "text": [
            "Enter Hours:45\n",
            "Enter Rate:10.50\n",
            "498.75\n"
          ],
          "name": "stdout"
        }
      ]
    },
    {
      "cell_type": "markdown",
      "metadata": {
        "id": "GMhDuHl4aqf-",
        "colab_type": "text"
      },
      "source": [
        "3.3 Write a program to prompt for a score between 0.0 and 1.0. If the score is out of range, print an error. If the score is between 0.0 and 1.0, print a grade using the following table:\n",
        "Score Grade\n",
        ">= 0.9 A\n",
        ">= 0.8 B\n",
        ">= 0.7 C\n",
        ">= 0.6 D\n",
        "< 0.6 F\n",
        "If the user enters a value out of range, print a suitable error message and exit. For the test, enter a score of 0.85.\n"
      ]
    },
    {
      "cell_type": "code",
      "metadata": {
        "id": "SSI3a6ehasFU",
        "colab_type": "code",
        "colab": {
          "base_uri": "https://localhost:8080/",
          "height": 51
        },
        "outputId": "800b8546-a05d-4aa6-d254-20f1e570651a"
      },
      "source": [
        "try:\n",
        "    inp = input(\"Please enter a score: \")\n",
        "    score=float(inp)\n",
        "except:\n",
        "    print (\"Please enter a score number between 0.0 and 1.0\")\n",
        "    quit()\n",
        "if 0.0 <= score  < 0.6 :\n",
        "    print (\"F\")\n",
        "elif 1.0 >= score >= 0.9 :\n",
        "    print (\"A\")\n",
        "elif 0.9 > score >= 0.8 :\n",
        "    print (\"B\")\n",
        "elif 0.8 > score >= 0.7 :\n",
        "    print (\"C\")\n",
        "elif 0.7 > score >= 0.6 :\n",
        "    print (\"D\")\n",
        "else :\n",
        "    print (\"Your score number is not in the 0 - 1 range.\")"
      ],
      "execution_count": 4,
      "outputs": [
        {
          "output_type": "stream",
          "text": [
            "Please enter a score: 0.8\n",
            "B\n"
          ],
          "name": "stdout"
        }
      ]
    },
    {
      "cell_type": "markdown",
      "metadata": {
        "id": "EJ8mZyjib41G",
        "colab_type": "text"
      },
      "source": [
        "# Chapter 4\n"
      ]
    },
    {
      "cell_type": "markdown",
      "metadata": {
        "id": "gr4e2sktcM4o",
        "colab_type": "text"
      },
      "source": [
        "Question 1\n",
        "Which Python keyword indicates the start of a function definition?\n",
        "help\n",
        "rad\n",
        "break\n",
        "def\n",
        "\n",
        "Answer: def\n",
        "\n",
        "Question 2\n",
        "In Python, how do you indicate the end of the block of code that makes up the function?\n",
        "You put a # character at the end of the last line of the function\n",
        "You de-indent a line of code to the same indent level as the def keyword\n",
        "You add a line that has at least 10 dashes\n",
        "You put the colon character (:) in the first column of a line\n",
        "\n",
        "Answer: You de-indent a line of code to the same indent level as the def keyword\n",
        "\n",
        "Question 3\n",
        "In Python what is the raw_input() feature best described as?\n",
        "A conditional statement\n",
        "A data structure that can hold multiple values using strings as keys\n",
        "A built-in function\n",
        "A reserved word\n",
        "\n",
        "Answer:A built-in function\n",
        "\n",
        "What does the following code print out?\n",
        "def thing():\n",
        "    print 'Hello'\n",
        " \n",
        "print 'There'\n",
        "thing\n",
        "Hello\n",
        "There\n",
        "There\n",
        "Hello\n",
        "def\n",
        "thing\n",
        "\n",
        "Answer: There\n",
        "\n",
        "Question 5\n",
        "In the following Python code, which of the following is an \"argument\" to a function?\n",
        "x = 'banana'\n",
        "y = max(x)\n",
        "print y\n",
        "print x\n",
        "y\n",
        "x\n",
        "print\n",
        "max\n",
        "\n",
        "\n",
        "Answer: x\n",
        "\n",
        "\n",
        "What will the following Python code print out?\n",
        "def func(x) :\n",
        "    print x\n",
        "\n",
        "func(10)\n",
        "func(20)\n",
        "10\n",
        "20\n",
        "x\n",
        "10\n",
        "x\n",
        "20\n",
        " x\n",
        "x\n",
        " func\n",
        "func\n",
        "\n",
        "Answer: 10 20\n",
        "\n",
        "Question 7\n",
        "Which line of the following Python program is useless?\n",
        "def stuff():\n",
        "    print 'Hello'\n",
        "    return\n",
        "    print 'World'\n",
        "\n",
        "stuff()\n",
        "print 'Hello'\n",
        "def stuff():\n",
        "stuff()\n",
        "print 'World'\n",
        "return\n",
        "\n",
        "Answer: print \"World\"\n",
        "\n",
        "\n",
        "Question 8\n",
        "What will the following Python program print out?\n",
        "def greet(lang):\n",
        "    if lang == 'es':\n",
        "        return 'Hola'\n",
        "    elif lang == 'fr':\n",
        "        return 'Bonjour'\n",
        "    else:\n",
        "        return 'Hello'\n",
        " \n",
        "print greet('fr'),'Michael'\n",
        "Bonjour Michael\n",
        "Hello Michael\n",
        "def Michael\n",
        "Hola\n",
        "Bonjour\n",
        "Hello\n",
        "Michael\n",
        "\n",
        "Answer: Bonjour Michaels\n",
        "\n",
        "\n",
        "Question 9\n",
        "What does the following Python code print out? (Note that this is a bit of a trick question and the code has what many would consider to be a flaw/bug - so read carefully).\n",
        "def addtwo(a, b):\n",
        "    added = a + b\n",
        "    return a\n",
        "\n",
        "x = addtwo(2, 7)\n",
        "print x\n",
        "addtwo\n",
        "2\n",
        "9\n",
        "Traceback\n",
        "\n",
        "Answer: 2\n",
        "\n",
        "Question 10\n",
        "What is the most important benefit of writing your own functions?\n",
        "To avoid having more than 10 lines of sequential code without an indent or de-indent\n",
        "Following the rule that whenever a program is more than 10 lines you must use a function\n",
        "Following the rule that no function can have more than 10 statements in it\n",
        "Avoiding writing the same non-trivial code more than once in your program\n",
        "\n",
        "Answer: Avoiding writing the same non-trivial code more than once in your program"
      ]
    },
    {
      "cell_type": "markdown",
      "metadata": {
        "id": "XM-0qaArceXX",
        "colab_type": "text"
      },
      "source": [
        "4.6 Write a program to prompt the user for hours and rate per hour using input to compute gross pay. Pay should be the normal rate for hours up to 40 and time-and-a-half for the hourly rate for all hours worked above 40 hours. Put the logic to do the computation of pay in a function called computepay() and use the function to do the computation. The function should return a value. Use 45 hours and a rate of 10.50 per hour to test the program (the pay should be 498.75). You should use input to read a string and float() to convert the string to a number. Do not worry about error checking the user input unless you want to - you can assume the user types numbers properly. Do not name your variable sum or use the sum() function."
      ]
    },
    {
      "cell_type": "code",
      "metadata": {
        "id": "0yQ8elRDcf8y",
        "colab_type": "code",
        "colab": {
          "base_uri": "https://localhost:8080/",
          "height": 68
        },
        "outputId": "864dfb98-b4e2-455c-ecf2-693892ba30cc"
      },
      "source": [
        "def computepay(h,r):\n",
        "  if h > 40:\n",
        "    p = 1.5 * r * (h - 40) + (40 *r)\n",
        "  else:\n",
        "    p = h * r\n",
        "  return p\n",
        "\n",
        "hrs = input(\"Enter Hours:\")\n",
        "hr = float(hrs)\n",
        "rphrs = input(\"Enter rate per hour:\")\n",
        "rphr = float(rphrs)\n",
        "\n",
        "p = computepay(hr,rphr)\n",
        "print(p)"
      ],
      "execution_count": 5,
      "outputs": [
        {
          "output_type": "stream",
          "text": [
            "Enter Hours:45\n",
            "Enter rate per hour:10.50\n",
            "498.75\n"
          ],
          "name": "stdout"
        }
      ]
    },
    {
      "cell_type": "markdown",
      "metadata": {
        "id": "MXNwUSU3eO_M",
        "colab_type": "text"
      },
      "source": [
        "Question 1\n",
        "What is wrong with this Python loop:\n",
        "        n = 5\n",
        "while n > 0 :\n",
        "        print n\n",
        "print 'All done'\n",
        "This loop will run forever\n",
        "There should be no colon on the while statement\n",
        "The print 'All done' statement should be indented four spaces\n",
        "while is not a Python reserved word\n",
        "\n",
        "Answer: This loop will run forever\n",
        "\n",
        "Question 2\n",
        "What does the break statement do?\n",
        "Jumps to the \"top\" of the loop and starts the next iteration\n",
        "Resets the iteration variable to its initial value\n",
        "Exits the currently executing loop\n",
        "Exits the program\n",
        "\n",
        "Answer: Exits the currently executing loop\n",
        "\n",
        "Question 3\n",
        "What does the continue statement do?\n",
        "Resets the iteration variable to its initial value\n",
        "Exits the currently executing loop\n",
        "Jumps to the \"top\" of the loop and starts the next iteration\n",
        "Exits the program\n",
        "\n",
        "Answer: Jumps to the \"top\" of the loop and starts the next iteration\n",
        "\n",
        "Question 4\n",
        "What does the following Python program print out?\n",
        "tot = 0 \n",
        "for i in [5, 4, 3, 2, 1] :\n",
        "        tot = tot + 1\n",
        "print tot\n",
        "0\n",
        "5\n",
        "10\n",
        "15\n",
        "\n",
        "Answer: 5\n",
        "\n",
        "Question 5\n",
        "What is the iteration variable in the following Python code:\n",
        "        friends = ['Joseph', 'Glenn', 'Sally']\n",
        "for friend in friends : \n",
        "        print 'Happy New Year:',  friend\n",
        "print 'Done!'\n",
        "friend\n",
        "friends\n",
        "Sally\n",
        "Joseph\n",
        "\n",
        "Answer: friend\n",
        "\n",
        "\n",
        "Question 6\n",
        "What is a good description of the following bit of Python code?\n",
        "zork = 0\n",
        "for thing in [9, 41, 12, 3, 74, 15] :\n",
        "        zork = zork + thing\n",
        "print 'After', zork\n",
        "Sum all the elements of a list\n",
        "Find the smallest item in a list\n",
        "Count all of the elements in a list\n",
        "Compute the average of the elements in a list\n",
        "\n",
        "Answer: Sum all the elements of a list\n",
        "\n",
        "Question 7\n",
        "What will the following code print out?\n",
        "smallest_so_far = -1\n",
        "for the_num in [9, 41, 12, 3, 74, 15] :\n",
        "        if the_num < smallest_so_far :\n",
        "        smallest_so_far = the_num\n",
        "print smallest_so_far\n",
        "Hint: This is a trick question and most would say this code has a bug - so read carefully\n",
        "-1\n",
        "3\n",
        "74\n",
        "42\n",
        "\n",
        "Answer: -1\n",
        "\n",
        "Question 8\n",
        "What is a good statement to describe the is operator as used in the following if statement:\n",
        "        if smallest is None : \n",
        "        smallest = value\n",
        "The if statement is a syntax error\n",
        "matches both type and value\n",
        "Is true if the smallest variable has a value of -1\n",
        "Looks up 'None' in the smallest variable if it is a string\n",
        "\n",
        "Answer: matches both type and value\n",
        "\n",
        "Question 9\n",
        "Which reserved word indicates the start of an \"indefinite\" loop in Python?\n",
        "while\n",
        "def\n",
        "break\n",
        "for\n",
        "indef\n",
        "\n",
        "Answer: while\n",
        "\n",
        "Question 10\n",
        "How many times will the body of the following loop be executed?\n",
        "n = 0\n",
        "while n > 0 :\n",
        "        print 'Lather'\n",
        "print 'Rinse'\n",
        "print 'Dry off!'\n",
        "1\n",
        "0\n",
        "5\n",
        "This in an infinite loop\n",
        "Answer: 0"
      ]
    },
    {
      "cell_type": "markdown",
      "metadata": {
        "id": "SZiHkv7be58G",
        "colab_type": "text"
      },
      "source": [
        "5.2 Write a program that repeatedly prompts a user for integer numbers until the user enters 'done'. Once 'done' is entered, print out the largest and smallest of the numbers. If the user enters anything other than a valid number catch it with a try/except and put out an appropriate message and ignore the number. Enter 7, 2, bob, 10, and 4 and match the output below.\n"
      ]
    },
    {
      "cell_type": "code",
      "metadata": {
        "id": "xbGm9tO3cnP5",
        "colab_type": "code",
        "colab": {
          "base_uri": "https://localhost:8080/",
          "height": 248
        },
        "outputId": "ab511ad3-7cd9-4298-9584-82eb7847e966"
      },
      "source": [
        "largest = None\n",
        "smallest = None\n",
        "\n",
        "while True:\n",
        "    inp = raw_input(\"Enter a number: \")\n",
        "    if inp == \"done\" : break\n",
        "    try:\n",
        "        num = float(inp)\n",
        "    except:\n",
        "       # print \"Please enter a number as input or \\'done\\'\"\n",
        "        print (\"Invalid input\")\n",
        "        continue\n",
        "    if smallest is None:\n",
        "        smallest = num \n",
        "    if num > largest :\n",
        "        largest = num\n",
        "    elif num < smallest :\n",
        "        smallest = num\n",
        "\n",
        "def done(largest,smallest):\n",
        "    print (\"Maximum is\", int(largest))  \n",
        "    print (\"Minimum is\", int(smallest))\n",
        "done(largest,smallest)\n",
        "\n"
      ],
      "execution_count": 7,
      "outputs": [
        {
          "output_type": "stream",
          "text": [
            "Enter a number: 7\n"
          ],
          "name": "stdout"
        },
        {
          "output_type": "error",
          "ename": "TypeError",
          "evalue": "ignored",
          "traceback": [
            "\u001b[0;31m---------------------------------------------------------------------------\u001b[0m",
            "\u001b[0;31mTypeError\u001b[0m                                 Traceback (most recent call last)",
            "\u001b[0;32m<ipython-input-7-15c0f4dcb4b0>\u001b[0m in \u001b[0;36m<module>\u001b[0;34m()\u001b[0m\n\u001b[1;32m     13\u001b[0m     \u001b[0;32mif\u001b[0m \u001b[0msmallest\u001b[0m \u001b[0;32mis\u001b[0m \u001b[0;32mNone\u001b[0m\u001b[0;34m:\u001b[0m\u001b[0;34m\u001b[0m\u001b[0;34m\u001b[0m\u001b[0m\n\u001b[1;32m     14\u001b[0m         \u001b[0msmallest\u001b[0m \u001b[0;34m=\u001b[0m \u001b[0mnum\u001b[0m\u001b[0;34m\u001b[0m\u001b[0;34m\u001b[0m\u001b[0m\n\u001b[0;32m---> 15\u001b[0;31m     \u001b[0;32mif\u001b[0m \u001b[0mnum\u001b[0m \u001b[0;34m>\u001b[0m \u001b[0mlargest\u001b[0m \u001b[0;34m:\u001b[0m\u001b[0;34m\u001b[0m\u001b[0;34m\u001b[0m\u001b[0m\n\u001b[0m\u001b[1;32m     16\u001b[0m         \u001b[0mlargest\u001b[0m \u001b[0;34m=\u001b[0m \u001b[0mnum\u001b[0m\u001b[0;34m\u001b[0m\u001b[0;34m\u001b[0m\u001b[0m\n\u001b[1;32m     17\u001b[0m     \u001b[0;32melif\u001b[0m \u001b[0mnum\u001b[0m \u001b[0;34m<\u001b[0m \u001b[0msmallest\u001b[0m \u001b[0;34m:\u001b[0m\u001b[0;34m\u001b[0m\u001b[0;34m\u001b[0m\u001b[0m\n",
            "\u001b[0;31mTypeError\u001b[0m: '>' not supported between instances of 'float' and 'NoneType'"
          ]
        }
      ]
    },
    {
      "cell_type": "markdown",
      "metadata": {
        "id": "eweLokame47n",
        "colab_type": "text"
      },
      "source": [
        ""
      ]
    }
  ]
}