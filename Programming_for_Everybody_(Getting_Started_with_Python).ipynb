{
  "nbformat": 4,
  "nbformat_minor": 0,
  "metadata": {
    "colab": {
      "name": "Programming for Everybody (Getting Started with Python)",
      "provenance": [],
      "include_colab_link": true
    },
    "kernelspec": {
      "name": "python3",
      "display_name": "Python 3"
    }
  },
  "cells": [
    {
      "cell_type": "markdown",
      "metadata": {
        "id": "view-in-github",
        "colab_type": "text"
      },
      "source": [
        "<a href=\"https://colab.research.google.com/github/purna-manideep/2019-2020_Python/blob/master/Programming_for_Everybody_(Getting_Started_with_Python).ipynb\" target=\"_parent\"><img src=\"https://colab.research.google.com/assets/colab-badge.svg\" alt=\"Open In Colab\"/></a>"
      ]
    },
    {
      "cell_type": "code",
      "metadata": {
        "id": "qdeo8i3kL5N_",
        "colab_type": "code",
        "colab": {
          "base_uri": "https://localhost:8080/",
          "height": 34
        },
        "outputId": "baf4f096-8174-4af7-c2aa-29d456da42f7"
      },
      "source": [
        "print(\"Hello World\")"
      ],
      "execution_count": 1,
      "outputs": [
        {
          "output_type": "stream",
          "text": [
            "Hello World\n"
          ],
          "name": "stdout"
        }
      ]
    },
    {
      "cell_type": "markdown",
      "metadata": {
        "id": "CJhQl6hIThdf",
        "colab_type": "text"
      },
      "source": [
        "1.When Python is running in the interactive mode and displaying the chevron prompt (>>>) - what question is Python asking you?\n",
        "A) What is the next machine language instruction to run?\n",
        "\n",
        "2.What will the following program print out:\n",
        "A)20\n",
        "\n",
        "3.Python scripts (files) have names that end with:\n",
        "A).py\n",
        "\n",
        "4.Which of these words are reserved words in Python ?\n",
        "A) if,break\n",
        "\n",
        "5.What is the proper way to say “good-bye” to Python?\n",
        "A) quit()\n",
        "\n",
        "6.Which of the parts of a computer actually executes the program instructions?\n",
        "A)Central Processing Unit\n",
        "\n",
        "7.What is \"code\" in the context of this course?\n",
        "A) A sequence of instructions in a programming language\n",
        "\n",
        "8.A USB memory stick is an example of which of the following components of computer architecture?\n",
        "A) Secondary Memory\n",
        "\n",
        "9.What is the best way to think about a \"Syntax Error\" while programming?\n",
        "A)The computer did not understand the statement that you entered\n",
        "\n",
        "10.Which of the following is not one of the programming patterns covered in Chapter 1?\n",
        "A)Random steps\n"
      ]
    },
    {
      "cell_type": "code",
      "metadata": {
        "id": "rZXiIDlaT67G",
        "colab_type": "code",
        "colab": {}
      },
      "source": [
        ""
      ],
      "execution_count": 0,
      "outputs": []
    }
  ]
}