{
  "nbformat": 4,
  "nbformat_minor": 0,
  "metadata": {
    "colab": {
      "name": "Python Data Structures",
      "provenance": [],
      "collapsed_sections": [],
      "include_colab_link": true
    },
    "kernelspec": {
      "name": "python3",
      "display_name": "Python 3"
    }
  },
  "cells": [
    {
      "cell_type": "markdown",
      "metadata": {
        "id": "view-in-github",
        "colab_type": "text"
      },
      "source": [
        "<a href=\"https://colab.research.google.com/github/purna-manideep/2019-2020_Python/blob/master/Python_Data_Structures.ipynb\" target=\"_parent\"><img src=\"https://colab.research.google.com/assets/colab-badge.svg\" alt=\"Open In Colab\"/></a>"
      ]
    },
    {
      "cell_type": "markdown",
      "metadata": {
        "id": "gWAsepr9rbr7",
        "colab_type": "text"
      },
      "source": [
        "# Chapter 6"
      ]
    },
    {
      "cell_type": "markdown",
      "metadata": {
        "id": "qUPeQKIXrNsh",
        "colab_type": "text"
      },
      "source": [
        "Question 1\n",
        "What does the following Python Program print out?\n",
        "str1 = \"Hello\"\n",
        "str2 = 'there'\n",
        "bob = str1 + str2\n",
        "print bob\n",
        "Hello\n",
        "Hellothere\n",
        "0\n",
        "Hello\n",
        "there\n",
        "\n",
        "Answer: Hellothere\n",
        "\n",
        "\n",
        "Question 2\n",
        "What does the following Python program print out?\n",
        "x = '40'\n",
        "y = int(x) + 2\n",
        "print y\n",
        "42\n",
        "x2\n",
        "402\n",
        "int402\n",
        "\n",
        "Answer: 42\n",
        "\n",
        "Question 3\n",
        "How would you use the index operator [] to print out the letter q from the following string?\n",
        "x = 'From marquard@uct.ac.za'\n",
        "print x[9]\n",
        "print x[q]\n",
        "print x[-1]\n",
        "print x[7]\n",
        "print x[8]\n",
        "\n",
        "\n",
        "Answer: print x[8]\n",
        "\n",
        "Question 4\n",
        "How would you use string slicing [:] to print out 'uct' from the following string?\n",
        "x = 'From marquard@uct.ac.za'\n",
        "print x[14:3]\n",
        "print x[14+17]\n",
        "print x[15:18]\n",
        "print x[14:17]\n",
        "print x[14/17]\n",
        "print x[15:3]\n",
        "\n",
        "Answer: print x[14:17]\n",
        "\n",
        "Question 5\n",
        "What is the iteration variable in the following Python code?\n",
        "for letter in 'banana' :\n",
        "        print letter\n",
        "for\n",
        "letter\n",
        "print\n",
        "'banana'\n",
        "in\n",
        "\n",
        "Answer: letter\n",
        "\n",
        "Question 6\n",
        "What does the following Python code print out?\n",
        "print len('banana')*7\n",
        "-1\n",
        "banana banana banana banana banana banana banana\n",
        "0\n",
        "42\n",
        "\n",
        "Answer: 42\n",
        "\n",
        "\n",
        "How would you print out the following variable in all upper case in Python?\n",
        "greet = 'Hello Bob'\n",
        "\n",
        "puts greet.ucase;\n",
        "\n",
        "console.log(greet.toUpperCase());\n",
        "\n",
        "print uc($greet);\n",
        "\n",
        "print greet.upper()\n",
        "\n",
        "Answer: print greet.upper()\n",
        "\n",
        "Question 8\n",
        "Which of the following is not a valid string method in Python?\n",
        "join()\n",
        "upper()\n",
        "twist()\n",
        "lstrip()\n",
        "\n",
        "Answer: twist\n",
        "\n",
        "Question 9\n",
        "What will the following Python code print out?\n",
        "data = 'From stephen.marquard@uct.ac.za Sat Jan  5 09:14:16 2008'\n",
        "pos = data.find('.')\n",
        "print data[pos:pos+3]\n",
        ".ma\n",
        "mar\n",
        "Sat\n",
        "09:14\n",
        "\n",
        "Answer: .ma\n",
        "\n",
        "Question 10\n",
        "Which of the following string methods removes whitespace from both the beginning and end of a string?\n",
        "strip()\n",
        "wsrem()\n",
        "strtrunc()\n",
        "split()\n",
        "\n",
        "Answer: strip()"
      ]
    },
    {
      "cell_type": "markdown",
      "metadata": {
        "id": "gR5uJqxZuhXc",
        "colab_type": "text"
      },
      "source": [
        "6.5 Write code using find() and string slicing (see section 6.10) to extract the number at the end of the line below. Convert the extracted value to a floating point number and print it out."
      ]
    },
    {
      "cell_type": "code",
      "metadata": {
        "id": "5hauzOzPgqaZ",
        "colab_type": "code",
        "colab": {
          "base_uri": "https://localhost:8080/",
          "height": 34
        },
        "outputId": "073333f5-05cd-48e1-dc3a-2aa8cdc5f4cb"
      },
      "source": [
        "text = \"X-DSPAM-Confidence:    0.8475\";\n",
        "spacePos = text.find(\" \")\n",
        "number = text[spacePos::1]\n",
        "#not really necessary but since we are just learning and playing\n",
        "strippedNumber = number.lstrip();\n",
        "result = float(strippedNumber)\n",
        "\n",
        "def reprint(printed):\n",
        "    print (printed)  \n",
        "\n",
        "reprint(result)"
      ],
      "execution_count": 1,
      "outputs": [
        {
          "output_type": "stream",
          "text": [
            "0.8475\n"
          ],
          "name": "stdout"
        }
      ]
    },
    {
      "cell_type": "markdown",
      "metadata": {
        "id": "_9ubHlupv51I",
        "colab_type": "text"
      },
      "source": [
        "Week 2\n",
        "-->You can write any code you like in the window below. There are three files loaded and ready for you to open if you want to do file processing: \"mbox-short.txt\", \"romeo.txt\", and \"words.txt\"."
      ]
    },
    {
      "cell_type": "code",
      "metadata": {
        "id": "U20tdJm5vg4P",
        "colab_type": "code",
        "colab": {
          "base_uri": "https://localhost:8080/",
          "height": 231
        },
        "outputId": "d26f7038-b815-4721-9c87-934f9eaf259e"
      },
      "source": [
        "fh = open(\"romeo.txt\", \"r\")\n",
        "\n",
        "count = 0\n",
        "for line in fh:\n",
        "    print(line.strip())\n",
        "    count = count + 1\n",
        "\n",
        "print(count,\"Lines\")"
      ],
      "execution_count": 2,
      "outputs": [
        {
          "output_type": "error",
          "ename": "FileNotFoundError",
          "evalue": "ignored",
          "traceback": [
            "\u001b[0;31m---------------------------------------------------------------------------\u001b[0m",
            "\u001b[0;31mFileNotFoundError\u001b[0m                         Traceback (most recent call last)",
            "\u001b[0;32m<ipython-input-2-5bd3e3f37820>\u001b[0m in \u001b[0;36m<module>\u001b[0;34m()\u001b[0m\n\u001b[0;32m----> 1\u001b[0;31m \u001b[0mfh\u001b[0m \u001b[0;34m=\u001b[0m \u001b[0mopen\u001b[0m\u001b[0;34m(\u001b[0m\u001b[0;34m\"romeo.txt\"\u001b[0m\u001b[0;34m,\u001b[0m \u001b[0;34m\"r\"\u001b[0m\u001b[0;34m)\u001b[0m\u001b[0;34m\u001b[0m\u001b[0;34m\u001b[0m\u001b[0m\n\u001b[0m\u001b[1;32m      2\u001b[0m \u001b[0;34m\u001b[0m\u001b[0m\n\u001b[1;32m      3\u001b[0m \u001b[0mcount\u001b[0m \u001b[0;34m=\u001b[0m \u001b[0;36m0\u001b[0m\u001b[0;34m\u001b[0m\u001b[0;34m\u001b[0m\u001b[0m\n\u001b[1;32m      4\u001b[0m \u001b[0;32mfor\u001b[0m \u001b[0mline\u001b[0m \u001b[0;32min\u001b[0m \u001b[0mfh\u001b[0m\u001b[0;34m:\u001b[0m\u001b[0;34m\u001b[0m\u001b[0;34m\u001b[0m\u001b[0m\n\u001b[1;32m      5\u001b[0m     \u001b[0mprint\u001b[0m\u001b[0;34m(\u001b[0m\u001b[0mline\u001b[0m\u001b[0;34m.\u001b[0m\u001b[0mstrip\u001b[0m\u001b[0;34m(\u001b[0m\u001b[0;34m)\u001b[0m\u001b[0;34m)\u001b[0m\u001b[0;34m\u001b[0m\u001b[0;34m\u001b[0m\u001b[0m\n",
            "\u001b[0;31mFileNotFoundError\u001b[0m: [Errno 2] No such file or directory: 'romeo.txt'"
          ]
        }
      ]
    },
    {
      "cell_type": "markdown",
      "metadata": {
        "id": "MbMUpKZkwtS9",
        "colab_type": "text"
      },
      "source": [
        "# Chapter 7"
      ]
    },
    {
      "cell_type": "markdown",
      "metadata": {
        "id": "gJPGW9P0w58P",
        "colab_type": "text"
      },
      "source": [
        "Question 1\n",
        "Given the architecture and terminology we introduced in Chapter 1, where are files stored?\n",
        "Motherboard\n",
        "Central Processor\n",
        "Machine Language\n",
        "Secondary memory\n",
        "\n",
        "Answer: Secondary memory\n",
        "\n",
        "Question 2\n",
        "What is stored in a \"file handle\" that is returned from a successful open() call?\n",
        "The handle has a list of all of the files in a particular folder on the hard drive\n",
        "The handle is a connection to the file's data\n",
        "The handle contains the first 10 lines of a file\n",
        "All the data from the file is read into memory and stored in the handle\n",
        "\n",
        "Answer: The handle is a connection to the file's data\n",
        "\n",
        "Question 3\n",
        "What do we use the second parameter of the open() call to indicate?\n",
        "How large we expect the file to be\n",
        "The list of folders to be searched to find the file we want to open\n",
        "Whether we want to read data from the file or write data to the file\n",
        "What disk drive the file is stored on\n",
        "\n",
        "Question 4\n",
        "What Python function would you use if you wanted to prompt the user for a file name to open?\n",
        "file_input()\n",
        "read()\n",
        "raw_input()\n",
        "cin\n",
        "\n",
        "Answer: raw_input()\n",
        "\n",
        "Question 5\n",
        "What is the purpose of the newline character in text files?\n",
        "It adds a new network connection to retrieve files from the network\n",
        "It indicates the end of one line of text and the beginning of another line of text\n",
        "It enables random movement throughout the file\n",
        "It allows us to open more than one files and read them in a synchronized manner\n",
        "\n",
        "Answer: It indicates the end of one line of text and the beginning of another line of text\n",
        "\n",
        "Question 6\n",
        "If we open a file as follows:\n",
        "xfile = open('mbox.txt')\n",
        "What statement would we use to read the file one line at a time?\n",
        "\n",
        "for line in xfile:\n",
        "while ( getline (xfile,line) ) {\n",
        "READ xfile INTO LINE\n",
        "READ (xfile,*,END=10) line\n",
        "                \n",
        "Answer: for line in xfile\n",
        "\n",
        "Question 7\n",
        "What is the purpose of the following Python code?\n",
        "fhand = open('mbox.txt')\n",
        "x = 0\n",
        "for line in fhand:\n",
        "        x = x + 1\n",
        "print x\n",
        "Count the lines in the file 'mbox.txt'\n",
        "Reverse the order of the lines in mbox.txt\n",
        "Remove the leading and trailing spaces from each line in mbox.txt\n",
        "Convert the lines in mbox.txt to upper case\n",
        "\n",
        "Answer: Count the lines in the file 'mbox.txt'\n",
        "\n",
        "Question 8\n",
        "If you write a Python program to read a text file and you see extra blank lines in the output that are not present in the file input as shown below, what Python string function will likely solve the problem?\n",
        "From: stephen.marquard@uct.ac.za\n",
        "\n",
        "From: louis@media.berkeley.edu\n",
        "\n",
        "From: zqian@umich.edu\n",
        "\n",
        "From: rjlowe@iupui.edu\n",
        "...\n",
        "find()\n",
        "startswith()\n",
        "rstrip()\n",
        "split()\n",
        "Answer: rstrip()\n",
        "\n",
        "Question 9\n",
        "The following code sequence fails with a traceback when the user enters a file that does not exist. How would you avoid the traceback and make it so you could print out your own error message when a bad file name was entered?\n",
        "fname = raw_input('Enter the file name: ')\n",
        "fhand = open(fname)\n",
        "try / except\n",
        "signal handlers\n",
        "try / catch / finally\n",
        "on error resume next\n",
        "\n",
        "Answer: try/ except\n",
        "\n",
        "Question 10\n",
        "What does the following Python code do?\n",
        "fhand = open('mbox-short.txt')\n",
        "inp = fhand.read()\n",
        "Checks to see if the file exists and can be written\n",
        "Turns the text in the file into a graphic image like a PNG or JPG\n",
        "Reads the entire file into the variable inp as a string\n",
        "Prompts the user for a file name\n",
        "\n",
        "Answer: Reads the entire file into the variable inp as a string\n"
      ]
    },
    {
      "cell_type": "markdown",
      "metadata": {
        "id": "TwxTwi-IzW5B",
        "colab_type": "text"
      },
      "source": [
        "7.1 Write a program that prompts for a file name, then opens that file and reads through the file, and print the contents of the file in upper case. Use the file words.txt to produce the output below."
      ]
    },
    {
      "cell_type": "code",
      "metadata": {
        "id": "h515nMoxwQZY",
        "colab_type": "code",
        "colab": {
          "base_uri": "https://localhost:8080/",
          "height": 248
        },
        "outputId": "5a375107-0ea1-4f80-b50a-608558ba1d75"
      },
      "source": [
        "# Use words.txt as the file name\n",
        "fname = input(\"Enter file name: \")\n",
        "fh = open(fname)\n",
        "#fname=\"https://www.py4e.com/code3/words.txt\"\n",
        "\n",
        "for fx in fh:\n",
        "    fy = fx.rstrip()\n",
        "    print(fy.upper())"
      ],
      "execution_count": 4,
      "outputs": [
        {
          "output_type": "stream",
          "text": [
            "Enter file name: words.txt\n"
          ],
          "name": "stdout"
        },
        {
          "output_type": "error",
          "ename": "FileNotFoundError",
          "evalue": "ignored",
          "traceback": [
            "\u001b[0;31m---------------------------------------------------------------------------\u001b[0m",
            "\u001b[0;31mFileNotFoundError\u001b[0m                         Traceback (most recent call last)",
            "\u001b[0;32m<ipython-input-4-364590667306>\u001b[0m in \u001b[0;36m<module>\u001b[0;34m()\u001b[0m\n\u001b[1;32m      1\u001b[0m \u001b[0mfname\u001b[0m \u001b[0;34m=\u001b[0m \u001b[0minput\u001b[0m\u001b[0;34m(\u001b[0m\u001b[0;34m\"Enter file name: \"\u001b[0m\u001b[0;34m)\u001b[0m\u001b[0;34m\u001b[0m\u001b[0;34m\u001b[0m\u001b[0m\n\u001b[0;32m----> 2\u001b[0;31m \u001b[0mfh\u001b[0m \u001b[0;34m=\u001b[0m \u001b[0mopen\u001b[0m\u001b[0;34m(\u001b[0m\u001b[0mfname\u001b[0m\u001b[0;34m)\u001b[0m\u001b[0;34m\u001b[0m\u001b[0;34m\u001b[0m\u001b[0m\n\u001b[0m\u001b[1;32m      3\u001b[0m \u001b[0;31m#fname  https://www.py4e.com/code3/words.txt\u001b[0m\u001b[0;34m\u001b[0m\u001b[0;34m\u001b[0m\u001b[0;34m\u001b[0m\u001b[0m\n\u001b[1;32m      4\u001b[0m \u001b[0;34m\u001b[0m\u001b[0m\n\u001b[1;32m      5\u001b[0m \u001b[0;32mfor\u001b[0m \u001b[0mfx\u001b[0m \u001b[0;32min\u001b[0m \u001b[0mfh\u001b[0m\u001b[0;34m:\u001b[0m\u001b[0;34m\u001b[0m\u001b[0;34m\u001b[0m\u001b[0m\n",
            "\u001b[0;31mFileNotFoundError\u001b[0m: [Errno 2] No such file or directory: 'words.txt'"
          ]
        }
      ]
    },
    {
      "cell_type": "markdown",
      "metadata": {
        "id": "39PxQgQL0PXl",
        "colab_type": "text"
      },
      "source": [
        "7.2 Write a program that prompts for a file name, then opens that file and reads through the file, looking for lines of the form:\n",
        "X-DSPAM-Confidence:    0.8475\n",
        "Count these lines and extract the floating point values from each of the lines and compute the average of those values and produce an output as shown below. Do not use the sum() function or a variable named sum in your solution.\n",
        "You can download the sample data at http://www.py4e.com/code3/mbox-short.txt"
      ]
    },
    {
      "cell_type": "code",
      "metadata": {
        "id": "gbL8KvJF0Q-d",
        "colab_type": "code",
        "colab": {}
      },
      "source": [
        "# Use the file name mbox-short.txt as the file name\n",
        "fname =input(\"Enter file name: \")\n",
        "fh = open(fname)\n",
        "count = 0\n",
        "tot = 0\n",
        "ans = 0\n",
        "for line in fh:\n",
        "    if not line.startswith(\"X-DSPAM-Confidence:\") : continue\n",
        "    count = count + 1\n",
        "    num = float(line[21:])\n",
        "    tot = num + tot\n",
        "ans = tot / count\n",
        "print (\"Average spam confidence:\", ans)"
      ],
      "execution_count": 0,
      "outputs": []
    },
    {
      "cell_type": "markdown",
      "metadata": {
        "id": "VITPEsN50ogM",
        "colab_type": "text"
      },
      "source": [
        "# Chapter 8"
      ]
    },
    {
      "cell_type": "markdown",
      "metadata": {
        "id": "gnUKRYGq1A6O",
        "colab_type": "text"
      },
      "source": [
        "###\n",
        "Question 1\n",
        "How are \"collection\" variables different from normal variables?\n",
        "Collection variables can only store a single value\n",
        "Collection variables can store multiple values in a single variable\n",
        "Collection variables merge streams of output into a single stream\n",
        "Collection variables pull multiple network documents together\n",
        "\n",
        "Answer: Collection variables can store multiple values in a single variable\n",
        "\n",
        "Question 2\n",
        "What are the Python keywords used to construct a loop to iterate through a list?\n",
        "for / in\n",
        "foreach / in\n",
        "try / except\n",
        "def / return\n",
        "\n",
        "Answer: for/in\n",
        "\n",
        "Question 3\n",
        "For the following list, how would you print out 'Sally'?\n",
        "friends = [ 'Joseph', 'Glenn', 'Sally' ]\n",
        "print friends[2]\n",
        "print friends[3]\n",
        "print friends[2:1]\n",
        "print friends['Sally']\n",
        "\n",
        "Answer: print friends[2]\n",
        "\n",
        "Question 4\n",
        "What would the following Python code print out?\n",
        "fruit = 'Banana'\n",
        "fruit[0] = 'b'\n",
        "print fruit\n",
        "Nothing would print - the program fails with a traceback\n",
        "b\n",
        "[0]\n",
        "banana\n",
        "Banana\n",
        "B\n",
        "\n",
        "Answer: othing would print - the program fails with a traceback\n",
        "\n",
        "Question 5\n",
        "Which of the following Python statements would print out the length of a list stored in the variable data?\n",
        "print data.length()\n",
        "print len(data)\n",
        "print data.length\n",
        "print strlen(data)\n",
        "print length(data)\n",
        "print data.Len\n",
        "\n",
        "Answer: print len(data)\n",
        "\n",
        "Question 6\n",
        "What type of data is produced when you call the range() function?\n",
        "x = range(5)\n",
        "A boolean (true/false) value\n",
        "A list of words\n",
        "A list of integers\n",
        "A string\n",
        "A list of characters\n",
        "\n",
        "Answer: A list of integers\n",
        "\n",
        "Question 7\n",
        "What does the following Python code print out?\n",
        "a = [1, 2, 3]\n",
        "b = [4, 5, 6]\n",
        "c = a + b\n",
        "print len(c)\n",
        "[1, 2, 3, 4, 5, 6]\n",
        "[1, 2, 3]\n",
        "21\n",
        "[4, 5, 6]\n",
        "15\n",
        "6\n",
        "\n",
        "Answer: 6\n",
        "\n",
        "Question 8\n",
        "Which of the following slicing operations will produce the list [12, 3]?\n",
        "t = [9, 41, 12, 3, 74, 15]\n",
        "t[12:3]\n",
        "t[1:3]\n",
        "t[2:2]\n",
        "t[:]\n",
        "t[2:4]\n",
        "\n",
        "Answer: t[2:4]\n",
        "\n",
        "Question 9\n",
        "What list method adds a new item to the end of an existing list?\n",
        "push()\n",
        "index()\n",
        "pop()\n",
        "forward()\n",
        "add()\n",
        "append()\n",
        "\n",
        "Answer: append()\n",
        "\n",
        "Question 10\n",
        "What will the following Python code print out?\n",
        "friends = [ 'Joseph', 'Glenn', 'Sally' ]\n",
        "friends.sort()\n",
        "print friends[0]\n",
        "Joseph\n",
        "Sally\n",
        "Glenn\n",
        "friends\n",
        "\n",
        "Answer: Glenn"
      ]
    },
    {
      "cell_type": "markdown",
      "metadata": {
        "id": "-aybVQmN1WqR",
        "colab_type": "text"
      },
      "source": [
        "8.4 Open the file romeo.txt and read it line by line. For each line, split the line into a list of words using the split() method. The program should build a list of words. For each word on each line check to see if the word is already in the list and if not append it to the list. When the program completes, sort and print the resulting words in alphabetical order.\n"
      ]
    },
    {
      "cell_type": "code",
      "metadata": {
        "id": "AgrpD-b11aRd",
        "colab_type": "code",
        "colab": {}
      },
      "source": [
        "fname =input(\"Enter file name: \")\n",
        "fh = open(fname)\n",
        "lst = list()                       # list for the desired output\n",
        "for line in fh:                    # to read every line of file romeo.txt\n",
        "    word= line.rstrip().split()    # to eliminate the unwanted blanks and turn the line into a list of words\n",
        "    for element in word:           # check every element in word    \n",
        "        if element in lst:         # if element is repeated\n",
        "            continue               # do nothing\n",
        "        else :                     # else if element is not in the list\n",
        "            lst.append(element)    # append     \n",
        "lst.sort()                         # sort the list (de-indent indicates that you sort when the loop ends)\n",
        "print (lst) "
      ],
      "execution_count": 0,
      "outputs": []
    },
    {
      "cell_type": "markdown",
      "metadata": {
        "id": "13YVllR_1uHy",
        "colab_type": "text"
      },
      "source": [
        "8.5 Open the file mbox-short.txt and read it line by line. When you find a line that starts with 'From ' like the following line:\n",
        "From stephen.marquard@uct.ac.za Sat Jan  5 09:14:16 2008\n",
        "You will parse the From line using split() and print out the second word in the line (i.e. the entire address of the person who sent the message). Then print out a count at the end.\n",
        "Hint: make sure not to include the lines that start with 'From:'.\n",
        "\n",
        "You can download the sample data at http://www.py4e.com/code3/mbox-short.txt"
      ]
    },
    {
      "cell_type": "code",
      "metadata": {
        "id": "t68hWa2h1giF",
        "colab_type": "code",
        "colab": {}
      },
      "source": [
        "fname = input(\"Enter file name: \")\n",
        "if len(fname) < 1 : fname = \"mbox-short.txt\"\n",
        "\n",
        "fh = open(fname)\n",
        "count = 0\n",
        "for line in fh :\n",
        "\n",
        "    line = line.rstrip()\n",
        "    if line == \"\" : continue\n",
        "\n",
        "    words = line.split()\n",
        "    if words[0] != \"From\" : continue\n",
        "\n",
        "    print (words[1])\n",
        "    count = count + 1\n",
        "\n",
        "print(\"There were\", count, \"lines in the file with From as the first word\")"
      ],
      "execution_count": 0,
      "outputs": []
    },
    {
      "cell_type": "markdown",
      "metadata": {
        "id": "DRjL-f9j2PIi",
        "colab_type": "text"
      },
      "source": [
        "# Chapter 9 Quiz\n",
        "# New Section"
      ]
    },
    {
      "cell_type": "markdown",
      "metadata": {
        "id": "abtvkZcb2SJX",
        "colab_type": "text"
      },
      "source": [
        "How are Python dictionaries different from Python lists?\n",
        "A)Python lists are indexed using integers and dictionaries can use strings as indexes\n",
        "\n",
        "What is a term commonly used to describe the Python dictionary feature in other programming languages?\n",
        "A)Associative arrays\n",
        "\n",
        "What would the following Python code print out?\n",
        "stuff = dict()\n",
        "print(stuff['candy'])\n",
        "A)The program would fail with a traceback notcandy\n",
        "\n",
        "What would the following Python code print out?\n",
        "stuff = dict()\n",
        "print(stuff.get('candy',-1))\n",
        "A)-1 not The program would fail with a traceback\n",
        "\n",
        "(T/F) When you add items to a dictionary they remain in the order in which you added them.\n",
        "A)False\n",
        "\n",
        "What is a common use of Python dictionaries in a program?\n",
        "A)Building a histogram counting the occurrences of various strings in a file\n",
        "\n",
        "\n",
        "Which of the following lines of Python is equivalent to the following sequence of statements assuming that counts is a dictionary?\n",
        "if key in counts:\n",
        "counts[key] = counts[key] + 1\n",
        "else:\n",
        "counts[key] = 1\n",
        "counts[key] = counts.get(key,0) + 1\n",
        "\n",
        "In the following Python, what does the for loop iterate through?\n",
        "x = dict()\n",
        "...\n",
        "for y in x :\n",
        "...\n",
        "A)It loops through the keys in the dictionary\n",
        "\n",
        "Which method in a dictionary object gives you a list of the values in the dictionary?\n",
        "A)values()\n",
        "\n",
        "What is the purpose of the second parameter of the get() method for Python dictionaries?\n",
        "A)To provide a default value if the key is not found\n",
        "\n"
      ]
    },
    {
      "cell_type": "markdown",
      "metadata": {
        "id": "7RAW_6wI3lPZ",
        "colab_type": "text"
      },
      "source": [
        "9.4 Write a program to read through the mbox-short.txt and figure out who has sent the greatest number of mail messages. The program looks for 'From ' lines and takes the second word of those lines as the person who sent the mail. The program creates a Python dictionary that maps the sender's mail address to a count of the number of times they appear in the file. After the dictionary is produced, the program reads through the dictionary using a maximum loop to find the most prolific committer."
      ]
    },
    {
      "cell_type": "code",
      "metadata": {
        "id": "4wD3vRN015zq",
        "colab_type": "code",
        "colab": {}
      },
      "source": [
        "name = input(\"Enter file:\")\n",
        "if len(name) < 1 : name = \"mbox-short.txt\"\n",
        "handle = open(name)\n",
        "from_lines = []\n",
        "emails = {}\n",
        "\n",
        "for line in handle:\n",
        "    line = line.rstrip()\n",
        "    if line.find('From ') == 0:\n",
        "        line = line.split(' ')\n",
        "        email = line[1]\n",
        "        if email not in emails:\n",
        "            emails[email] = 1\n",
        "        else:\n",
        "            emails[email] += 1\n",
        "\n",
        "email = ''\n",
        "count = 0\n",
        "\n",
        "for key in emails:\n",
        "    if emails[key] > count:\n",
        "        count = emails[key]\n",
        "        email = key\n",
        "\n",
        "print (\"%s %s\" % (email, str(count)))\n"
      ],
      "execution_count": 0,
      "outputs": []
    },
    {
      "cell_type": "markdown",
      "metadata": {
        "id": "zPg924Z14MP9",
        "colab_type": "text"
      },
      "source": [
        "## Chapter 10 Quiz\n"
      ]
    },
    {
      "cell_type": "markdown",
      "metadata": {
        "id": "CMW_nuSn4H4s",
        "colab_type": "text"
      },
      "source": [
        "What is the difference between a Python tuple and Python list?\n",
        "lists are mutable, tuples are immutable\n",
        "\n",
        "Which of the following methods work both in Python lists and Python tuples?\n",
        "index()\n",
        "\n",
        "What will end up in the variable y after this code is executed?\n",
        "x , y = 3, 4\n",
        "4\n",
        "\n",
        "In the following Python code, what will end up in the variable y?\n",
        "x = { 'chuck' : 1 , 'fred' : 42, 'jan': 100}\n",
        "y = x.items()\n",
        "A list of tuples\n",
        "\n",
        "Which of the following tuples is greater than x in the following Python sequence?\n",
        "x = (5, 1, 3)\n",
        "if ??? > x :\n",
        "...\n",
        "(6, 0, 0)\n",
        "\n",
        "What does the following Python code accomplish, assuming the c is a non-empty dictionary?\n",
        "tmp = list()\n",
        "for k, v in c.items() :\n",
        "tmp.append( (v, k) )\n",
        "It creates a list of tuples where each tuple is a value, key pair\n",
        "\n",
        "\n",
        "If the variable data is a Python list, how do we sort it in reverse order?\n",
        "data.sort(reverse=True)\n",
        "\n",
        "Using the following tuple, how would you print 'Wed'?\n",
        "days = ('Mon', 'Tue', 'Wed', 'Thu', 'Fri', 'Sat', 'Sun')\n",
        "print(days[2])\n",
        "\n",
        "In the following Python loop, why are there two iteration variables (k and v)?\n",
        "c = {'a':10, 'b':1, 'c':22}\n",
        "for k, v in c.items() :\n",
        "...\n",
        "Because the items() method in dictionaries returns a list of tuples not Because for each item we want the previous and current key not Because the keys for the dictionary are strings\n",
        "\n",
        "Given that Python lists and Python tuples are quite similar - when might you prefer to use a tuple over a list?\n",
        "For a temporary variable that you will use and discard without modifying"
      ]
    },
    {
      "cell_type": "markdown",
      "metadata": {
        "id": "t5lLBULg4bY9",
        "colab_type": "text"
      },
      "source": [
        "10.2 Write a program to read through the mbox-short.txt and figure out the distribution by hour of the day for each of the messages. You can pull the hour out from the 'From ' line by finding the time and then splitting the string a second time using a colon.\n",
        "From stephen.marquard@uct.ac.za Sat Jan  5 09:14:16 2008\n",
        "Once you have accumulated the counts for each hour, print out the counts, sorted by hour as shown below."
      ]
    },
    {
      "cell_type": "code",
      "metadata": {
        "id": "ST-UdULr4O3r",
        "colab_type": "code",
        "colab": {}
      },
      "source": [
        "name = input(\"Enter file:\")\n",
        "if len(name) < 1: \n",
        "    name = \"mbox-short.txt\"\n",
        "handle = open(name)\n",
        "\n",
        "counts = dict()\n",
        "\n",
        "for line in handle:\n",
        "    if line.startswith(\"From \"):\n",
        "        time = line.split()[5].split(\":\")\n",
        "        counts [time[0]] = counts.get(time[0], 0) + 1\n",
        "\n",
        "#print sorted( [ (v,k) for k,v in counts.items()] )\n",
        "\n",
        "list = list()\n",
        "\n",
        "for key, value in counts.items():\n",
        "    list.append( (key,value) )\n",
        "list.sort()\n",
        "\n",
        "for hour, counts in list:\n",
        "    print (hour, counts)"
      ],
      "execution_count": 0,
      "outputs": []
    },
    {
      "cell_type": "code",
      "metadata": {
        "id": "eEUQ9NsW4g_I",
        "colab_type": "code",
        "colab": {}
      },
      "source": [
        ""
      ],
      "execution_count": 0,
      "outputs": []
    }
  ]
}